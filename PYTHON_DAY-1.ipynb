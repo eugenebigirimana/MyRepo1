{
 "cells": [
  {
   "cell_type": "markdown",
   "metadata": {
    "id": "W7V-drwGZiSl"
   },
   "source": [
    "****\n",
    "\n",
    "# <center> <b> <span style=\"color:orange;\"> AIMS RWANDA - Preparatory Class</span> </b></center>\n",
    "\n",
    "## <center> <b> <span style=\"color:green;\">Introduction to Python Programming </span> </b></center>\n",
    "    "
   ]
  },
  {
   "cell_type": "markdown",
   "metadata": {},
   "source": [
    "## <left> <b> <span style=\"color:brown;\">Instructor: </span> </b></left>[Emmanuel Ansah](https://www.linkedin.com/in/emmanuel-ansah-9b193a216/)"
   ]
  },
  {
   "cell_type": "markdown",
   "metadata": {
    "id": "NZ9fECBcZiSm"
   },
   "source": [
    "    \n",
    "### *The main features of the Python language:*\n",
    "    \n",
    "- **Simple** and __readable__ syntax: educational language that is easy to learn and use;\n",
    "- __Interpreted language__: interactive use or line-by-line script execution, no compilation process;\n",
    "- __High-level__: dynamic typing, active memory management, for greater ease of use;\n",
    "- __Multi-paradigm__: imperative and/or object-oriented language, depending on individual needs and capabilities;\n",
    "- __Free__ and __open-source__ software, widely spread (multi-platform) and used (strong community);\n",
    "- __Rich standard library__: Batteries included;\n",
    "- __Rich external library__: many high-quality libraries available in various fields (including scientific).\n",
    "\n",
    "****\n",
    "    \n",
    "    \n",
    "    \n"
   ]
  },
  {
   "cell_type": "markdown",
   "metadata": {
    "id": "rpZckXLfZiSo"
   },
   "source": [
    "## Using Python\n",
    "\n",
    "#### Jupyter Notebook\n",
    "\n",
    "Commands are grouped into cells followed by their results after execution. These results and comments are stored in a specific `.ipynb` file and saved. LaTeX commands are accepted for integrating formulas, and the layout is managed using HTML tags or [*Markdown*](http://fr.wikipedia.org/wiki/Markdown).\n",
    "\n",
    "The save command also allows you to extract only the Python commands into a `.py` file. This is a simple and effective way to keep a complete history of an analysis for presentations or creating tutorials. The notebook can be loaded in different formats: `.html` page, `.pdf` file, or slideshow. Additional extensions might need to be installed. You can find a list of available extensions [here](https://pypi.org/project/jupyter-contrib-nbextensions/).\n"
   ]
  },
  {
   "cell_type": "markdown",
   "metadata": {
    "id": "RmfWcr-NZiSp"
   },
   "source": [
    "\n",
    "### Some Guidelines for Effective Use of the Notebook\n",
    "\n",
    "Although learning to navigate a Jupyter notebook could be covered in a tutorial, users will find it intuitive as the tabs at the top of the page are self-explanatory. Tutorials can be read on the [Jupyter project site](http://jupyter.org/). However, here are a few small pointers:\n",
    "\n",
    "Once the notebook is open:\n",
    "- Enter Python commands in a cell.\n",
    "- Click the cell execution button (or use `Shift + Enter` or `Ctrl + Enter`):\n",
    "   - `Shift + Enter` executes the current cell and moves the cursor to the next cell.\n",
    "   - `Ctrl + Enter` executes the current cell and keeps the cursor in the same cell.\n",
    "- Add comment cells and HTML or [Markdown](http://fr.wikipedia.org/wiki/Markdown) tags.\n",
    "\n",
    "Iterate by adding cells as needed. Once execution is complete:\n",
    "- Save the `.ipynb` notebook.\n",
    "- Optionally, export to a `.html` version for a web page.\n",
    "- Export the `.py` file containing the Python commands for an operational version.\n"
   ]
  },
  {
   "cell_type": "markdown",
   "metadata": {
    "id": "iM4CRz7-ZiSr"
   },
   "source": [
    "### Getting Help\n",
    "\n",
    "Finding your way around can be done with the help feature. To get help on the `int` type in Python, you can use the `help()` function. Here’s how you can do it in a Jupyter notebook or Python environment:\n",
    "\n",
    "```python\n",
    "help(int)\n",
    "```\n",
    "\n",
    "This will display information about the `int` type, including its methods and how it can be used.\n"
   ]
  },
  {
   "cell_type": "markdown",
   "metadata": {
    "id": "m8TVM4QVZiSs"
   },
   "source": [
    "In a Jupyter notebook, you can use the `?` syntax to get a simplified version of the help for the `int` type:\n",
    "\n",
    "```python\n",
    "int?\n",
    "```\n",
    "\n",
    "This will display a brief overview of the `int` type, including a summary of its methods and usage."
   ]
  },
  {
   "cell_type": "markdown",
   "metadata": {
    "id": "wCpJgdZ4ZiSt"
   },
   "source": [
    "### Resetting Jupyter\n",
    "\n",
    "The magic command `%reset` is used to reset the notebook. It clears all variables existing in the current session.\n",
    "\n",
    "To use it, simply type:\n",
    "\n",
    "```python\n",
    "%reset\n",
    "```\n",
    "\n",
    "This command will prompt you to confirm the reset. If you want to reset without confirmation, you can use:\n",
    "\n",
    "```python\n",
    "%reset -f\n",
    "```\n",
    "\n"
   ]
  },
  {
   "cell_type": "code",
   "execution_count": 3,
   "metadata": {
    "id": "GbqaRMq_ZiSt"
   },
   "outputs": [
    {
     "name": "stdout",
     "output_type": "stream",
     "text": [
      "Let's do the necessary.\n"
     ]
    }
   ],
   "source": [
    "my_char1 = \"Let's do the necessary.\"\n",
    "print(my_char1)"
   ]
  },
  {
   "cell_type": "code",
   "execution_count": 4,
   "metadata": {
    "id": "TH0_PLaLZiSt"
   },
   "outputs": [
    {
     "name": "stdin",
     "output_type": "stream",
     "text": [
      "Once deleted, variables cannot be recovered. Proceed (y/[n])?  y\n"
     ]
    }
   ],
   "source": [
    "%reset"
   ]
  },
  {
   "cell_type": "code",
   "execution_count": null,
   "metadata": {
    "id": "LrLco0BAZiSu"
   },
   "outputs": [],
   "source": [
    "print(my_char1)"
   ]
  },
  {
   "cell_type": "code",
   "execution_count": null,
   "metadata": {
    "id": "eLp4VwYFZiSu"
   },
   "outputs": [],
   "source": [
    "my_char2 = \"Have we done it?\"\n",
    "print(my_char2)"
   ]
  },
  {
   "cell_type": "code",
   "execution_count": null,
   "metadata": {
    "id": "ztbuSw_aZiSu"
   },
   "outputs": [],
   "source": [
    "%reset -f"
   ]
  },
  {
   "cell_type": "code",
   "execution_count": null,
   "metadata": {
    "id": "RJ2rV1VaZiSu"
   },
   "outputs": [],
   "source": [
    "print(my_char2)"
   ]
  },
  {
   "cell_type": "markdown",
   "metadata": {},
   "source": [
    "### Commenting\n",
    "```python\n",
    "# This is a comment — it helps explain code\n",
    "print(\"Hello, World!\")  # prints a greeting"
   ]
  },
  {
   "cell_type": "markdown",
   "metadata": {
    "id": "xyq0Bw8JZiSv"
   },
   "source": [
    "# Python Variables and Naming Rules\n",
    "\n",
    "A variable in Python is a name that refers to a value stored in memory. You can think of it as a label on a box where you keep a specific item (data). The value of the variable can change during the program’s execution.\n",
    "\n",
    "**Rules:**\n",
    "\n",
    " - Variable names must start with a letter or underscore.\n",
    "\n",
    " - Cannot start with a digit.\n",
    "\n",
    " - Cannot use special characters like -, +, ., etc.\n",
    "\n",
    " - Cannot use Python keywords like print, class, for, etc.\n"
   ]
  },
  {
   "cell_type": "code",
   "execution_count": null,
   "metadata": {},
   "outputs": [],
   "source": [
    "# Valid variable names\n",
    "student_name = \"Alice\"\n",
    "_age = 22\n",
    "radius1 = 7.5\n",
    "\n",
    "# Invalid examples\n",
    "# 1student = \"Bob\"\n",
    "# class+list = []\n",
    "# print = \"hello\"  \n"
   ]
  },
  {
   "cell_type": "markdown",
   "metadata": {},
   "source": [
    "# Data Types"
   ]
  },
  {
   "cell_type": "markdown",
   "metadata": {},
   "source": [
    "**Basic Data Types:**\n",
    " \n",
    " - `int` = Whole numbers\n",
    " - `float` = Decimal numbers\n",
    " - `str` = Text, often placed in quotation marks `\" \"` or `' '`\n",
    " - `bool` = Boolean values `True` or `False`"
   ]
  },
  {
   "cell_type": "markdown",
   "metadata": {},
   "source": [
    "**Other Useful Types:**\n",
    "\n",
    "- `list`, `tuple`, `set`, `dict`, `range`\n",
    "\n",
    "- `complex` for imaginary numbers\n",
    "\n",
    "- `NoneType` for null values"
   ]
  },
  {
   "cell_type": "code",
   "execution_count": null,
   "metadata": {},
   "outputs": [],
   "source": [
    "my_int = 42\n",
    "my_float = 3.1415\n",
    "my_str = \"Python\"\n",
    "my_bool = True\n",
    "my_complex = 3 + 4j"
   ]
  },
  {
   "cell_type": "code",
   "execution_count": null,
   "metadata": {},
   "outputs": [],
   "source": [
    "print(type(my_int), type(my_complex))"
   ]
  },
  {
   "cell_type": "markdown",
   "metadata": {},
   "source": [
    "**Handling complex numbers**"
   ]
  },
  {
   "cell_type": "code",
   "execution_count": null,
   "metadata": {},
   "outputs": [],
   "source": [
    "z = complex(3, 4)\n",
    "print(\"Real:\", z.real)\n",
    "print(\"Imaginary:\", z.imag)\n",
    "print(\"Conjugate:\", z.conjugate())\n",
    "print(\"Magnitude:\", abs(z))"
   ]
  },
  {
   "cell_type": "markdown",
   "metadata": {},
   "source": [
    "# Arithmetic and Assignment Operators"
   ]
  },
  {
   "cell_type": "markdown",
   "metadata": {},
   "source": [
    "\n",
    "\n",
    "\n",
    "#### 4.0. Arithmetic Operators\n",
    "\n",
    "| **Operation**            | **Symbol**  | **Example**       |\n",
    "|:-------------------------:|:-----------:|:-----------------:|\n",
    "| Addition                  | `+`         | `x = 2 + 3`       |\n",
    "| Subtraction               | `-`         | `z = x - y`       |\n",
    "| Multiplication            | `*`         | `y = 3 * x`       |\n",
    "| Real Division             | `/`         | `5 / 2 = 2.5`    |\n",
    "| Integer Division          | `//`        | `5 // 2 = 2`     |\n",
    "| Exponentiation            | `**`        | `x ** 2 = x * x` |\n",
    "| Modulo (Remainder)        | `%`         | `17 % 3 = 2`     |\n",
    "| Increment Addition        | `+=`        | `x += 4` (i.e., `x = x + 4`) |\n",
    "| Increment Subtraction     | `-=`        | `x -= 4` (i.e., `x = x - 4`) |\n",
    "\n",
    "---\n",
    "\n"
   ]
  },
  {
   "cell_type": "markdown",
   "metadata": {},
   "source": [
    "```python\n",
    "# Arithmetic\n",
    "a = 10\n",
    "b = 3\n",
    "print(a + b, a - b, a * b, a / b, a % b, a ** b, a // b)\n",
    "\n",
    "# Assignment\n",
    "x = 5\n",
    "x += 3   # x = x + 3\n",
    "x *= 2   # x = x * 2\n",
    "print(x)"
   ]
  },
  {
   "cell_type": "markdown",
   "metadata": {},
   "source": [
    "#  Logical and Comparison Operators"
   ]
  },
  {
   "cell_type": "markdown",
   "metadata": {},
   "source": [
    "\n",
    "\n",
    "#### 4.1. Logical Operators<\n",
    "\n",
    "| **Operation**                | **Symbol** | **Description**                                | **Example**               |\n",
    "|:----------------------------:|:----------:|:---------------------------------------------:|:--------------------------:|\n",
    "| Logical AND                  | `and`      | Returns `True` if both operands are true     | `True and False` yields `False` |\n",
    "| Logical OR                   | `or`       | Returns `True` if at least one operand is true| `True or False` yields `True`  |\n",
    "| Logical NOT                  | `not`      | Returns `True` if the operand is false       | `not True` yields `False`      |\n",
    "| Logical XOR (Exclusive OR)   | `^`        | Returns `True` if operands are different     | `True ^ False` yields `True`   |\n",
    "| Logical equality             | `==`       | Returns `True` if both operands are equal    | `x == y`                    |\n",
    "| Logical inequality           | `!=`       | Returns `True` if operands are not equal    | `x != y`                    |\n",
    "| Less than                    | `<`        | Returns `True` if left operand is less than right operand | `x < y`                  |\n",
    "| Greater than                 | `>`        | Returns `True` if left operand is greater than right operand | `x > y`                  |\n",
    "| Less than or equal to        | `<=`       | Returns `True` if left operand is less than or equal to right operand | `x <= y`                 |\n",
    "| Greater than or equal to     | `>=`       | Returns `True` if left operand is greater than or equal to right operand | `x >= y`                 |\n",
    "\n",
    "---\n"
   ]
  },
  {
   "cell_type": "markdown",
   "metadata": {},
   "source": [
    "\n",
    "- Membership: `in`\n",
    "             `not in`\n",
    "- Identity: `is`\n",
    "            `not is`"
   ]
  },
  {
   "cell_type": "markdown",
   "metadata": {},
   "source": [
    "```python\n",
    "a = 10\n",
    "b = 5\n",
    "\n",
    "print(a == b, a != b, a > b, a <= b)  # Comparison\n",
    "print(a > 3 and b < 7)                # Logical\n",
    "print(not (a < 15))                   # NOT\n"
   ]
  },
  {
   "cell_type": "markdown",
   "metadata": {},
   "source": [
    " # Strings"
   ]
  },
  {
   "cell_type": "markdown",
   "metadata": {},
   "source": [
    "Strings in Python are sequences of characters enclosed in quotes. They can be defined using single `(')`, double `(\")`, or triple quotes `(''' or \"\"\")`. Triple quotes allow for multi-line strings.\n",
    "\n",
    "```python\n",
    "a = \"hello\" \n",
    "b = 'world' \n",
    "c = \"\"\"a simple string\"\"\" \n",
    "\n",
    "a + b # 'helloworld'\n",
    "\n",
    "\n",
    " a + \" \"+b  # 'hello world'\n"
   ]
  },
  {
   "cell_type": "markdown",
   "metadata": {},
   "source": [
    " **Indexing and Slicing**\n",
    " \n",
    " `iterable[start:stop:step]`\n",
    "\n",
    " ```python\n",
    " text = \"Python Programming\"\n",
    "print(text[0])     # First character\n",
    "print(text[-1])    # Last character\n",
    "print(text[0:6])   # Slice from index 0 to 5\n",
    "print(text[::-1])  # Reverse string\n",
    "\n",
    "c[0:3]          # 'a s'\n",
    "c[:3]           # 'a s'\n",
    "c[5:]           # 'ple string'\n",
    "c[0::2]         # 'asml tig'\n",
    "\n"
   ]
  },
  {
   "cell_type": "markdown",
   "metadata": {},
   "source": [
    "**String methods**\n",
    "\n",
    "```python\n",
    "\n",
    "isalpha() # to check if a string contains only characters and is not empty\n",
    "\n",
    "isalnum() # to check if a string contains characters or digits and is not empty\n",
    "\n",
    "isdecimal() # to check if a string contains digits and is not empty\n",
    "\n",
    "lower() # to get a lowercase version of a string\n",
    "\n",
    "islower() # to check if a string is lowercase\n",
    "\n",
    "upper() # to get an uppercase version of a string\n",
    "\n",
    "isupper() # to check if a string is uppercase\n",
    "\n",
    "title() # to get a capitalized version of a string\n",
    "\n",
    "startswith() # to check if the string starts with a specific substring\n",
    "\n",
    "endswith() # to check if the string ends with a specific substring\n",
    "\n",
    "replace() # to replace a part of a string\n",
    "\n",
    "split() # to split a string on a specific character separator\n",
    "\n",
    "strip() # to trim the whitespace from a string\n",
    "\n",
    "join() # to append new letters to a string\n",
    "\n",
    "find() # to find the position of a substring\n",
    "\n",
    "msg = \"Welcome to Python\"\n",
    "print(msg.upper())        # Uppercase\n",
    "print(msg.find(\"Python\")) # Find index\n",
    "print(msg.replace(\"Python\", \"Data Science\"))  # Replace word\n",
    "\n",
    "\n",
    "print(\"the {0} programming language is in version {1}\".format(\"python\",3.7))  \n",
    "\n",
    "# the python programming language is in version 3.7 "
   ]
  },
  {
   "cell_type": "markdown",
   "metadata": {},
   "source": [
    "# Lists"
   ]
  },
  {
   "cell_type": "markdown",
   "metadata": {},
   "source": [
    "A list is an ordered collection of items that can be of different types. Lists are mutable, meaning their contents can be changed after creation.\n",
    "\n",
    "*Examples:*\n",
    "\n",
    "```python\n",
    "fruits = ['apple', 'banana', 'cherry']\n",
    "mixed = [1, 'two', 3.0, [4, 5]]\n",
    "a = [1,2,3,4,5] \n",
    "b = [1, \"test\", 4+5j, 0.2, a]\n",
    "\n",
    "b[0]                    # 1\n",
    "b[1]                    # 'test'\n",
    "\n",
    "b.append(12)            # [1, 'test', (4+5j), 0.2, [1, 2, 3, 4, 5], 12]\n",
    "\n",
    "b.append(['a','b'])     # [1, 'test', (4+5j), 0.2, [1, 2, 3, 4, 5], 12, ['a', 'b']]\n",
    "\n",
    "b.extend(['a','b'])     # [1, 'test', (4+5j), 0.2, [1, 2, 3, 4, 5], 12, ['a', 'b'], 'a', 'b']\n",
    "\n",
    "\n",
    "b[0] = 11               # [11, 'test', (4+5j), 0.2, [1, 2, 3, 4, 5], 12, ['a', 'b'], 'a', 'b']\n"
   ]
  },
  {
   "cell_type": "markdown",
   "metadata": {},
   "source": [
    "```python\n",
    "dogs=['emma',34,\"peace\"]\n",
    "\n",
    "print(\"peace\" in dogs)\n",
    "\n",
    "print(dogs[0])\n",
    "\n",
    "dogs.append(\"King\") #add an item to a list\n",
    "\n",
    "dogs.extend([\"Judah\",23]) # add the list\n",
    "\n",
    "dogs += [\"car\", \"song\"] \n",
    "\n",
    "\n",
    "dogs.remove(23) # remove an item in a list\n",
    "\n",
    "dogs.pop()  # returns and removes the last element of the list.\n",
    "\n",
    "\n",
    "dogs.insert(2, \"Test\") # add item at a specific index\n",
    "\n",
    "dogs[3:3]=[\"clap\",\"dance\"]# add multiple items at an index\n",
    "\n",
    "#dogs.sort() # sort a list\n"
   ]
  },
  {
   "cell_type": "markdown",
   "metadata": {},
   "source": [
    "# Tuples (Immutable Lists)"
   ]
  },
  {
   "cell_type": "markdown",
   "metadata": {},
   "source": [
    "A tuple is similar to a list but is immutable, meaning its contents cannot be changed after creation (Can't modify the original tuple).\n",
    "\n",
    "Tuples are often used to store collections of related data.\n",
    "\n",
    "\n",
    "\n",
    "```python\n",
    "coordinates = (10.5, 20.8)\n",
    "colors = ('red', 'green', 'blue')\n",
    "\n",
    "print(coordinates, type(coordinates))\n",
    "print(colors, type(colors))\n"
   ]
  },
  {
   "cell_type": "markdown",
   "metadata": {},
   "source": [
    "# Dictionary (Keyed Lists) "
   ]
  },
  {
   "cell_type": "markdown",
   "metadata": {},
   "source": [
    "A dictionary is a collection of key-value pairs, where each key is associated with a value. Dictionaries are mutable and allow for fast lookup of values based on their keys.\n",
    "\n",
    "```python\n",
    "person = {'name': 'Alice', 'age': 30}\n",
    "inventory = {'apples': 10, 'bananas': 20}\n",
    "\n",
    "print(inventory, type(inventory))"
   ]
  },
  {
   "cell_type": "markdown",
   "metadata": {},
   "source": [
    "```python\n",
    "person={\"name\": \"Emmanuel\", \"age\":42, \"country\":\"Ghana\", \"colour\": \"blue\"}\n",
    "print(person[\"name\"])\n",
    "person[\"age\"]=25\n",
    "\n",
    "\n",
    "person.get(\"colour\", \"blue\")\n",
    "\n",
    "#print(person.popitem())  # returns and deletes recently added item\n",
    "print(person.keys())\n",
    "print(person.values())\n",
    "print(person.items())\n",
    "print(len (person))\n",
    "person[\"favorite food\"]=\"Jollof\"  # add a new item\n",
    "#del person[\"colour\"] delete item in dictionary\n",
    "personCopy=person.copy()  # copy dictionary\n",
    "print(person)"
   ]
  },
  {
   "cell_type": "markdown",
   "metadata": {},
   "source": [
    "# Set"
   ]
  },
  {
   "cell_type": "markdown",
   "metadata": {},
   "source": [
    "A set is an unordered collection of unique elements. Sets are useful for membership tests and eliminating duplicate entries.\n",
    "\n",
    "Sets are mutable.\n",
    "\n",
    "```python\n",
    "unique_numbers = {1, 2, 3, 2}\n",
    "letters = {'a', 'b', 'c', 'a'}\n",
    "\n",
    "print(unique_numbers, type(unique_numbers))\n",
    "\n",
    "print(letters , type(letters ))"
   ]
  },
  {
   "cell_type": "markdown",
   "metadata": {},
   "source": [
    "**Set Operations**\n",
    "\n",
    "```python\n",
    "A = {1, 2, 3}\n",
    "B = {3, 4, 5}\n",
    "\n",
    "print(\"Union:\", A | B)\n",
    "print(\"Intersection:\", A & B)\n",
    "print(\"Difference:\", A - B)"
   ]
  },
  {
   "cell_type": "markdown",
   "metadata": {},
   "source": [
    "# Flow control"
   ]
  },
  {
   "cell_type": "markdown",
   "metadata": {},
   "source": [
    "**Flow control** in Python is essential for directing the flow of a program's execution, enabling dynamic and adaptable behavior. `Conditional statements`, such as `if`, `elif`, and `else`, allow you to execute different blocks of code based on specific conditions, facilitating complex decision-making processes. `Loops`, including `for` and `while`, provide mechanisms for repeating code execution, which is invaluable for tasks that involve processing collections of data or performing actions multiple times. Mastering these flow control constructs is key to writing efficient, readable, and flexible code, as they allow you to tailor your program's behavior to meet varying conditions and requirements."
   ]
  },
  {
   "cell_type": "markdown",
   "metadata": {},
   "source": [
    "## Conditional Structure\n",
    "\n",
    "Conditional statements are operations that the program executes when a logical expression evaluates to `True` or `False` (depending on the case). Conditional statements are defined within an `if...else` clause.\n",
    "\n",
    "The general structure of an `if...else` block is as follows:\n",
    "\n",
    "```python\n",
    "if logical_expression:\n",
    "    statement1\n",
    "    statement2\n",
    "    ...\n",
    "    statementn\n",
    "else:\n",
    "    other_block_of_statements\n",
    "```\n",
    "\n",
    "Note the `:` symbol following the `if` or `else` keyword, which indicates the end of the `if` or `else` declaration and the beginning of the statement definitions. Also, note that the `else` clause is optional, meaning there can be an `if` clause without an `else` clause.\n",
    "\n",
    "It is crucial to observe the essential role of *indentation*, which delineates each block of statements, and the presence of colons after the condition and after the `else` keyword."
   ]
  },
  {
   "cell_type": "markdown",
   "metadata": {},
   "source": [
    "\n",
    "```python\n",
    "# Instructions with a simple \"if\" clause\n",
    "a = 150\n",
    "if (a > 100):\n",
    "    print(\"a exceeds 100\")\n",
    "\n",
    "print(\"================================================\")\n",
    "print('\\t')\n",
    "\n",
    "\n",
    "# Instructions with the if...else clause\n",
    "x = 65\n",
    "if (x > 70):\n",
    "    print(\"x exceeds 70\")\n",
    "else:\n",
    "    print(\"x does not exceed 100\")\n"
   ]
  },
  {
   "cell_type": "markdown",
   "metadata": {},
   "source": [
    "\n",
    "The `if...elif...else` clause is used when there are multiple logical conditions, each associated with instructions to execute when they are met.\n",
    "\n",
    "```python\n",
    "    x = 0\n",
    "    if x > 0 :\n",
    "        print(\"x is positive\")\n",
    "    elif x < 0 :\n",
    "        print(\"x is negative\")\n",
    "    else:\n",
    "        print(\"x is zero\")\n",
    "```"
   ]
  },
  {
   "cell_type": "markdown",
   "metadata": {},
   "source": [
    "### Defining nested `if` clauses\n",
    "\n",
    "The previous examples illustrate first-level `if` clauses. In complex programs, it is very common to have nested `if` clauses, meaning that `if` clauses are defined inside other `if` clauses, sometimes at multiple levels. See the example below:\n",
    "\n",
    "```python\n",
    "a = 15\n",
    "b = 10\n",
    "\n",
    "if a > b:\n",
    "    print(\"a is greater than b\")\n",
    "    if a - b > 5:\n",
    "        print(\"The difference between a and b is greater than 5\")\n",
    "    else:\n",
    "        print(\"The difference between a and b is 5 or less\")\n",
    "else:\n",
    "    print(\"a is not greater than b\")\n",
    "```\n",
    "\n",
    "In this example, there is an `if` statement nested within another `if` statement. This structure allows for more granular control over the conditions and the corresponding actions in your program.\n"
   ]
  },
  {
   "cell_type": "markdown",
   "metadata": {},
   "source": [
    "```python\n",
    "score = 85\n",
    "\n",
    "if score >= 90:\n",
    "    print(\"Excellent\")\n",
    "elif score >= 70:\n",
    "    print(\"Good\")\n",
    "elif score >= 50:\n",
    "    print(\"Pass\")\n",
    "else:\n",
    "    print(\"Fail\")\n"
   ]
  },
  {
   "cell_type": "markdown",
   "metadata": {},
   "source": [
    "# Loop Instructions\n",
    "\n",
    "In Python, there are two main types of loop instructions:\n",
    "\n",
    "1. **`while...` loops**: These loops execute a block of code repeatedly as long as a specified condition remains `True`. They are useful when the number of iterations is not known in advance and depends on dynamic conditions evaluated during execution.\n",
    "\n",
    "2. **`for... in...` loops**: These loops iterate over a sequence (such as a list, tuple, or string) or other iterable objects. They are ideal for iterating through known sequences or ranges of values, allowing for clear and concise iteration over collections or ranges.\n",
    "\n",
    "Both types of loops are fundamental for controlling the flow of execution and repeating tasks efficiently in Python programs.\n",
    "\n",
    "\n",
    "###  1.0. while... loops\n",
    "\n",
    "After introducing conditional structures, we turn our attention to loop structures: these structures allow a block of instructions to be executed multiple times. These repetitions fall into two categories:\n",
    "\n",
    "- **Conditional repetitions**: The block of instructions is repeated as long as a condition is true.\n",
    "\n",
    "- **Unconditional repetitions**: The block of instructions is repeated a specified number of times.\n",
    "\n",
    "The general syntax for defining `while` loop instructions is as follows:\n",
    "\n",
    "```python\n",
    "   Initialize increment variable\n",
    "   while condition:\n",
    "        block_of_instructions\n",
    "        increment\n",
    "```\n",
    "\n",
    "As with the `if` structure, the condition is first evaluated, and if it is true, the block of instructions is executed. However, with the `while` loop, after executing the block of instructions, the condition is evaluated again. This process repeats until the condition becomes false. Therefore, it is essential to define an increment variable whose value changes after each execution so that the condition can eventually become false. This increment is necessary to prevent the instructions from being evaluated indefinitely, creating an infinite loop (or endless loop). Such a situation requires forcibly stopping the program's execution."
   ]
  },
  {
   "cell_type": "markdown",
   "metadata": {},
   "source": [
    "```python\n",
    "x = 1 # Initialization of the variable x\n",
    "while (x < 10):\n",
    "    print('The value of x is ', x)\n",
    "    x = x + 1 # Increment of the variable x\n",
    "\n",
    "\n",
    "\n",
    "fruits = ['pommes', 'oranges', 'fraises', 'bananes']\n",
    "i = 0\n",
    "while i < len(fruits):\n",
    "    print (fruits[i])\n",
    "    i = i + 1"
   ]
  },
  {
   "cell_type": "markdown",
   "metadata": {},
   "source": [
    "### 1.1. Loop Instructions: `for... in...`\n",
    "\n",
    "When we want to repeat a block of instructions a specified number of times, we can use a *counter*, which is a variable that counts the number of repetitions and controls the exit of the `while` loop. This is illustrated in the following example, where a function takes an integer `n` as an argument and prints the same message `n` times.\n",
    "\n",
    "To perform such a repetition, we have a loop structure that saves us from initializing the counter `(i = 0)` and incrementing it `(i += 1)`: this is the structure introduced by the `for` keyword.\n",
    "\n",
    "The general syntax for defining `for... in...` loop instructions is as follows:\n",
    "\n",
    "```python\n",
    "   for element in sequence_of_values :\n",
    "        block of instructions\n",
    "```"
   ]
  },
  {
   "cell_type": "markdown",
   "metadata": {},
   "source": [
    "```python\n",
    "listch = \"Hello world\"\n",
    "for i in listch :\n",
    "    print ( i )"
   ]
  },
  {
   "cell_type": "markdown",
   "metadata": {},
   "source": [
    "#### Combining a `for...in...` Loop with an `if` Clause\n",
    "```python\n",
    "mych = \"Hello World\"\n",
    "for letter in mych:\n",
    "    if letter in \"AEIOUYaeiouy\":\n",
    "        print('The letter', letter, 'is a vowel')\n",
    "    elif letter == \" \":\n",
    "        print(\"This is likely a space\")\n",
    "    else:\n",
    "        print('The letter', letter, 'is a consonant')\n"
   ]
  },
  {
   "cell_type": "markdown",
   "metadata": {},
   "source": [
    "```python\n",
    "costs = {'mango': 49, 'orange': 99, 'apple': 15, 'banana': 32}\n",
    "for fruit, price in costs.items():\n",
    "    print(\"A\", fruit, \"costs\", price, \"Rwandan francs.\")\n"
   ]
  },
  {
   "cell_type": "markdown",
   "metadata": {},
   "source": [
    "```python\n",
    "mylist = [0.0,0.1,0.2,0.3,0.4,0.5,0.6,0.7] \n",
    "list_res = [] \n",
    "for i in mylist: \n",
    "list_res.append(i**2) \n",
    "print(list_res)"
   ]
  },
  {
   "cell_type": "markdown",
   "metadata": {},
   "source": [
    "# List Comprehension"
   ]
  },
  {
   "cell_type": "markdown",
   "metadata": {
    "jp-MarkdownHeadingCollapsed": true
   },
   "source": [
    "In Python, a convenient and expressive syntax for creating lists is provided by list comprehensions. This method allows you to generate lists in a very concise way, often eliminating the need for explicit loops when elements need to be tested or processed before being included in the list.\n",
    "\n",
    "The syntax for defining a list comprehension is similar to the mathematical notation for defining a set comprehension:\n",
    "\n",
    "```python\n",
    "[expression for item in iterable if condition]\n",
    "```\n",
    "\n",
    "Here’s a breakdown of the components:\n",
    "- **`expression`**: The value or transformation to apply to each item.\n",
    "- **`item`**: The variable representing each element in the iterable.\n",
    "- **`iterable`**: The collection or sequence you are iterating over.\n",
    "- **`condition`** (optional): A filter that determines which items to include."
   ]
  },
  {
   "cell_type": "markdown",
   "metadata": {},
   "source": [
    "**Example:**\n",
    "\n",
    "Suppose you want to create a list of squares for all even numbers between 1 and 10. Using a list comprehension, you can achieve this concisely:\n",
    "\n",
    "```python\n",
    "squares = [x**2 for x in range(1, 11) if x % 2 == 0]\n",
    "print(squares)\n",
    "```\n",
    "\n",
    "**Explanation:**\n",
    "- `x**2` is the expression that computes the square of each item.\n",
    "- `x` is the item variable iterating over the numbers in `range(1, 11)`.\n",
    "- `range(1, 11)` is the iterable providing numbers from 1 to 10.\n",
    "- `if x % 2 == 0` is the condition filtering only even numbers.\n",
    "\n",
    "The output will be:\n",
    "```\n",
    "[4, 16, 36, 64, 100]\n",
    "```\n",
    "\n",
    "This approach is both readable and efficient for generating lists based on specific criteria or transformations."
   ]
  },
  {
   "cell_type": "markdown",
   "metadata": {},
   "source": [
    "**An efficient way to get a list of leap years within a given range:**\n",
    "```python\n",
    "leap_years = [year for year in range(2000, 2100) if (year % 4 == 0 and year % 100 != 0) or (year % 400 == 0)]\n",
    "\n",
    "print(leap_years)"
   ]
  },
  {
   "cell_type": "markdown",
   "metadata": {},
   "source": [
    "```python\n",
    "\n",
    "a = [x**3 for x in range(10)] \n",
    "a "
   ]
  },
  {
   "cell_type": "markdown",
   "metadata": {},
   "source": [
    "## **Break and Continue statements in `while...` or `for... in...` loops**\n",
    "\n",
    "The reserved keywords `break` and `continue` are used to alter the behavior of `for...in` or `while...` loops. The `break` statement allows for the termination of the loop and the exit from it prematurely, even if the main condition defining the loop remains true. On the other hand, the `continue` statement is used to skip the execution of the remaining instructions in the current iteration of the loop and proceed to the next iteration when the main condition is satisfied. The following examples illustrate their use."
   ]
  },
  {
   "cell_type": "markdown",
   "metadata": {},
   "source": [
    "### Loop with the break statement\n",
    "```python\n",
    "for i in range(5):\n",
    "    if i > 2:\n",
    "        break\n",
    "print(i)\n",
    "```\n",
    "\n",
    "\n",
    "**Explanation:**\n",
    "\n",
    "- The loop iterates over a range of values from 0 to 4.\n",
    "- When `i` becomes greater than 2, the `break` statement is executed, which exits the loop immediately.\n",
    "- Therefore, the loop stops, and the value of `i` at the time the loop is exited is printed. In this case, the output will be `3`."
   ]
  },
  {
   "cell_type": "markdown",
   "metadata": {},
   "source": [
    "\n",
    "```python\n",
    "# Loop with the continue statement\n",
    "for i in range(5):\n",
    "    if i == 2:\n",
    "        continue\n",
    "    print(i)\n",
    "```\n",
    "\n",
    "**Explanation:**\n",
    "\n",
    "- The loop iterates over a range of values from 0 to 4.\n",
    "- When `i` equals 2, the `continue` statement is executed. This causes the loop to skip the rest of the code inside the loop for this iteration and proceed to the next iteration.\n",
    "- As a result, `2` is not printed. The output will be `0`, `1`, `3`, and `4`.\n"
   ]
  },
  {
   "cell_type": "code",
   "execution_count": null,
   "metadata": {},
   "outputs": [],
   "source": []
  },
  {
   "cell_type": "code",
   "execution_count": null,
   "metadata": {},
   "outputs": [],
   "source": []
  },
  {
   "cell_type": "code",
   "execution_count": null,
   "metadata": {},
   "outputs": [],
   "source": []
  },
  {
   "cell_type": "code",
   "execution_count": null,
   "metadata": {},
   "outputs": [],
   "source": []
  },
  {
   "cell_type": "code",
   "execution_count": null,
   "metadata": {},
   "outputs": [],
   "source": []
  },
  {
   "cell_type": "code",
   "execution_count": null,
   "metadata": {},
   "outputs": [],
   "source": []
  },
  {
   "cell_type": "code",
   "execution_count": null,
   "metadata": {},
   "outputs": [],
   "source": []
  },
  {
   "cell_type": "code",
   "execution_count": null,
   "metadata": {},
   "outputs": [],
   "source": []
  },
  {
   "cell_type": "code",
   "execution_count": null,
   "metadata": {},
   "outputs": [],
   "source": []
  },
  {
   "cell_type": "code",
   "execution_count": null,
   "metadata": {},
   "outputs": [],
   "source": []
  },
  {
   "cell_type": "code",
   "execution_count": null,
   "metadata": {},
   "outputs": [],
   "source": []
  },
  {
   "cell_type": "code",
   "execution_count": null,
   "metadata": {},
   "outputs": [],
   "source": []
  },
  {
   "cell_type": "code",
   "execution_count": null,
   "metadata": {},
   "outputs": [],
   "source": []
  },
  {
   "cell_type": "code",
   "execution_count": null,
   "metadata": {},
   "outputs": [],
   "source": []
  },
  {
   "cell_type": "code",
   "execution_count": null,
   "metadata": {},
   "outputs": [],
   "source": []
  },
  {
   "cell_type": "code",
   "execution_count": null,
   "metadata": {},
   "outputs": [],
   "source": []
  },
  {
   "cell_type": "code",
   "execution_count": null,
   "metadata": {},
   "outputs": [],
   "source": []
  },
  {
   "cell_type": "code",
   "execution_count": null,
   "metadata": {},
   "outputs": [],
   "source": []
  },
  {
   "cell_type": "code",
   "execution_count": null,
   "metadata": {},
   "outputs": [],
   "source": []
  },
  {
   "cell_type": "code",
   "execution_count": null,
   "metadata": {},
   "outputs": [],
   "source": []
  }
 ],
 "metadata": {
  "colab": {
   "include_colab_link": true,
   "provenance": []
  },
  "kernelspec": {
   "display_name": "Python 3 (ipykernel)",
   "language": "python",
   "name": "python3"
  },
  "language_info": {
   "codemirror_mode": {
    "name": "ipython",
    "version": 3
   },
   "file_extension": ".py",
   "mimetype": "text/x-python",
   "name": "python",
   "nbconvert_exporter": "python",
   "pygments_lexer": "ipython3",
   "version": "3.13.5"
  }
 },
 "nbformat": 4,
 "nbformat_minor": 4
}
